{
  "nbformat": 4,
  "nbformat_minor": 0,
  "metadata": {
    "colab": {
      "provenance": []
    },
    "kernelspec": {
      "name": "python3",
      "display_name": "Python 3"
    },
    "language_info": {
      "name": "python"
    }
  },
  "cells": [
    {
      "cell_type": "code",
      "execution_count": null,
      "metadata": {
        "colab": {
          "base_uri": "https://localhost:8080/"
        },
        "id": "di4igc0aJzU0",
        "outputId": "49f8eda6-3947-4b70-e555-b60bd3c09441"
      },
      "outputs": [
        {
          "output_type": "stream",
          "name": "stdout",
          "text": [
            "Looking in indexes: https://pypi.org/simple, https://us-python.pkg.dev/colab-wheels/public/simple/\n",
            "Requirement already satisfied: pymorphy2 in /usr/local/lib/python3.7/dist-packages (0.9.1)\n",
            "Requirement already satisfied: dawg-python>=0.7.1 in /usr/local/lib/python3.7/dist-packages (from pymorphy2) (0.7.2)\n",
            "Requirement already satisfied: docopt>=0.6 in /usr/local/lib/python3.7/dist-packages (from pymorphy2) (0.6.2)\n",
            "Requirement already satisfied: pymorphy2-dicts-ru<3.0,>=2.4 in /usr/local/lib/python3.7/dist-packages (from pymorphy2) (2.4.417127.4579844)\n"
          ]
        }
      ],
      "source": [
        "pip install pymorphy2"
      ]
    },
    {
      "cell_type": "code",
      "source": [
        "pip install spacy"
      ],
      "metadata": {
        "colab": {
          "base_uri": "https://localhost:8080/"
        },
        "id": "BRnNd565LKKT",
        "outputId": "e3ed0d8b-2d12-4f4e-b490-9a4ecfc26527"
      },
      "execution_count": null,
      "outputs": [
        {
          "output_type": "stream",
          "name": "stdout",
          "text": [
            "Looking in indexes: https://pypi.org/simple, https://us-python.pkg.dev/colab-wheels/public/simple/\n",
            "Requirement already satisfied: spacy in /usr/local/lib/python3.7/dist-packages (3.4.2)\n",
            "Requirement already satisfied: thinc<8.2.0,>=8.1.0 in /usr/local/lib/python3.7/dist-packages (from spacy) (8.1.5)\n",
            "Requirement already satisfied: packaging>=20.0 in /usr/local/lib/python3.7/dist-packages (from spacy) (21.3)\n",
            "Requirement already satisfied: srsly<3.0.0,>=2.4.3 in /usr/local/lib/python3.7/dist-packages (from spacy) (2.4.5)\n",
            "Requirement already satisfied: jinja2 in /usr/local/lib/python3.7/dist-packages (from spacy) (2.11.3)\n",
            "Requirement already satisfied: wasabi<1.1.0,>=0.9.1 in /usr/local/lib/python3.7/dist-packages (from spacy) (0.10.1)\n",
            "Requirement already satisfied: spacy-loggers<2.0.0,>=1.0.0 in /usr/local/lib/python3.7/dist-packages (from spacy) (1.0.3)\n",
            "Requirement already satisfied: pydantic!=1.8,!=1.8.1,<1.11.0,>=1.7.4 in /usr/local/lib/python3.7/dist-packages (from spacy) (1.10.2)\n",
            "Requirement already satisfied: preshed<3.1.0,>=3.0.2 in /usr/local/lib/python3.7/dist-packages (from spacy) (3.0.8)\n",
            "Requirement already satisfied: requests<3.0.0,>=2.13.0 in /usr/local/lib/python3.7/dist-packages (from spacy) (2.23.0)\n",
            "Requirement already satisfied: murmurhash<1.1.0,>=0.28.0 in /usr/local/lib/python3.7/dist-packages (from spacy) (1.0.9)\n",
            "Requirement already satisfied: catalogue<2.1.0,>=2.0.6 in /usr/local/lib/python3.7/dist-packages (from spacy) (2.0.8)\n",
            "Requirement already satisfied: cymem<2.1.0,>=2.0.2 in /usr/local/lib/python3.7/dist-packages (from spacy) (2.0.7)\n",
            "Requirement already satisfied: setuptools in /usr/local/lib/python3.7/dist-packages (from spacy) (57.4.0)\n",
            "Requirement already satisfied: tqdm<5.0.0,>=4.38.0 in /usr/local/lib/python3.7/dist-packages (from spacy) (4.64.1)\n",
            "Requirement already satisfied: langcodes<4.0.0,>=3.2.0 in /usr/local/lib/python3.7/dist-packages (from spacy) (3.3.0)\n",
            "Requirement already satisfied: pathy>=0.3.5 in /usr/local/lib/python3.7/dist-packages (from spacy) (0.6.2)\n",
            "Requirement already satisfied: typing-extensions<4.2.0,>=3.7.4 in /usr/local/lib/python3.7/dist-packages (from spacy) (4.1.1)\n",
            "Requirement already satisfied: spacy-legacy<3.1.0,>=3.0.10 in /usr/local/lib/python3.7/dist-packages (from spacy) (3.0.10)\n",
            "Requirement already satisfied: typer<0.5.0,>=0.3.0 in /usr/local/lib/python3.7/dist-packages (from spacy) (0.4.2)\n",
            "Requirement already satisfied: numpy>=1.15.0 in /usr/local/lib/python3.7/dist-packages (from spacy) (1.21.6)\n",
            "Requirement already satisfied: zipp>=0.5 in /usr/local/lib/python3.7/dist-packages (from catalogue<2.1.0,>=2.0.6->spacy) (3.9.0)\n",
            "Requirement already satisfied: pyparsing!=3.0.5,>=2.0.2 in /usr/local/lib/python3.7/dist-packages (from packaging>=20.0->spacy) (3.0.9)\n",
            "Requirement already satisfied: smart-open<6.0.0,>=5.2.1 in /usr/local/lib/python3.7/dist-packages (from pathy>=0.3.5->spacy) (5.2.1)\n",
            "Requirement already satisfied: urllib3!=1.25.0,!=1.25.1,<1.26,>=1.21.1 in /usr/local/lib/python3.7/dist-packages (from requests<3.0.0,>=2.13.0->spacy) (1.24.3)\n",
            "Requirement already satisfied: certifi>=2017.4.17 in /usr/local/lib/python3.7/dist-packages (from requests<3.0.0,>=2.13.0->spacy) (2022.9.24)\n",
            "Requirement already satisfied: chardet<4,>=3.0.2 in /usr/local/lib/python3.7/dist-packages (from requests<3.0.0,>=2.13.0->spacy) (3.0.4)\n",
            "Requirement already satisfied: idna<3,>=2.5 in /usr/local/lib/python3.7/dist-packages (from requests<3.0.0,>=2.13.0->spacy) (2.10)\n",
            "Requirement already satisfied: blis<0.8.0,>=0.7.8 in /usr/local/lib/python3.7/dist-packages (from thinc<8.2.0,>=8.1.0->spacy) (0.7.9)\n",
            "Requirement already satisfied: confection<1.0.0,>=0.0.1 in /usr/local/lib/python3.7/dist-packages (from thinc<8.2.0,>=8.1.0->spacy) (0.0.3)\n",
            "Requirement already satisfied: click<9.0.0,>=7.1.1 in /usr/local/lib/python3.7/dist-packages (from typer<0.5.0,>=0.3.0->spacy) (7.1.2)\n",
            "Requirement already satisfied: MarkupSafe>=0.23 in /usr/local/lib/python3.7/dist-packages (from jinja2->spacy) (2.0.1)\n"
          ]
        }
      ]
    },
    {
      "cell_type": "code",
      "source": [
        "import spacy.cli\n",
        "spacy.cli.download(\"ru_core_news_sm\")\n",
        "spacy.cli.download(\"uk_core_news_sm\")\n",
        "from pymorphy2 import MorphAnalyzer\n",
        "import sqlite3\n",
        "import csv\n",
        "import string\n",
        "import re"
      ],
      "metadata": {
        "colab": {
          "base_uri": "https://localhost:8080/"
        },
        "id": "PSC9gf_FM-Kj",
        "outputId": "bd2e2de3-f0fe-41e9-a044-6fbafb3a569f"
      },
      "execution_count": null,
      "outputs": [
        {
          "output_type": "stream",
          "name": "stdout",
          "text": [
            "\u001b[38;5;2m✔ Download and installation successful\u001b[0m\n",
            "You can now load the package via spacy.load('ru_core_news_sm')\n",
            "\u001b[38;5;2m✔ Download and installation successful\u001b[0m\n",
            "You can now load the package via spacy.load('uk_core_news_sm')\n"
          ]
        }
      ]
    },
    {
      "cell_type": "markdown",
      "source": [
        "This project is dedicated to comparison of sentences with double vs single negation in verbal-elliptic constructions in Russian, Ukrainian and Belarusian. Installation, downloading and imports are successful. Everything is ready for work."
      ],
      "metadata": {
        "id": "lKWlzjMCQbo6"
      }
    },
    {
      "cell_type": "code",
      "source": [
        "with open('nc_ru.tsv', 'r', encoding='utf-8') as f1:\n",
        "    rulines = f1.readlines()\n",
        "    metadata = rulines[0]\n",
        "    heads_ru = metadata.split(\"\\t\")\n",
        "    rusents = heads_ru[1:]\n",
        "    rumorph = MorphAnalyzer()\n",
        "    rutargets_prelim = []\n",
        "    rusents = [rusent.strip(',.\\n') for rusent in rusents]\n",
        "    for rusent in rusents:\n",
        "      ruwords = rusent.split(\" \")\n",
        "      ruwords = [ruword for ruword in ruwords if ruword and ruword != \"-\"]\n",
        "      rumorphans = []\n",
        "      dictlist = []\n",
        "      for ruword in ruwords:\n",
        "        rusana = rumorph.parse(ruword)\n",
        "        rusana1 = rusana[0]\n",
        "        dict_meta = {}\n",
        "        dict_meta[\"word\"] = rusana1.word\n",
        "        dict_meta[\"pos\"] = rusana1.tag.POS\n",
        "        dict_meta[\"pers\"] = rusana1.tag.person\n",
        "        dictlist.append(dict_meta)\n",
        "      for dictionary in dictlist:\n",
        "        if dictionary[\"pos\"] == \"NPRO\" and dictionary[\"word\"] != \"многие\" and not dictionary[\"pers\"]:\n",
        "          rumorphans.append(dictionary)\n",
        "        if dictionary[\"word\"] == \"никогда\":\n",
        "          rumorphans.append(dictionary)\n",
        "      if rumorphans:\n",
        "        rutargets_prelim.append(rusent)\n",
        "    indices = []\n",
        "    for rupre in rutargets_prelim:\n",
        "      if rupre in rusents:\n",
        "        indices.append(rusents.index(rupre))\n",
        "with open('nc_ru.tsv', newline= \"\") as ff1:\n",
        "    new_csv = []\n",
        "    reader = csv.reader(ff1, delimiter = \"\\t\")\n",
        "    indices = [i+1 for i in indices]\n",
        "    indices.append(0)\n",
        "    indices = [indices[len(indices)-1]] + indices[0:len(indices)-1]\n",
        "    for row in reader:\n",
        "      col = list(row[i] for i in indices)\n",
        "      new_csv.append(col)"
      ],
      "metadata": {
        "id": "_zVGNlGQQlUR"
      },
      "execution_count": null,
      "outputs": []
    },
    {
      "cell_type": "code",
      "source": [
        "with open ('nc_ru2.tsv', 'w') as fw1:\n",
        "  writer = csv.writer(fw1, delimiter = \"\\t\")\n",
        "  for new_line in new_csv:\n",
        "    writer.writerow(new_line)"
      ],
      "metadata": {
        "id": "ISSD1JYG5LBN"
      },
      "execution_count": null,
      "outputs": []
    },
    {
      "cell_type": "markdown",
      "source": [
        "Thus, Russian data have undergone the first (morphological) stage of sort."
      ],
      "metadata": {
        "id": "g3eGsoyq9qZi"
      }
    },
    {
      "cell_type": "code",
      "source": [
        "with open('nc_ua.tsv', 'r', encoding='utf-8') as f2:\n",
        "    ualines = f2.readlines()\n",
        "    umetadata = ualines[0]\n",
        "    heads_ua = umetadata.split(\"\\t\")\n",
        "    uasents = heads_ua[1:]\n",
        "    uamorph = MorphAnalyzer(lang=\"uk\")\n",
        "    uatargets_prelim = []\n",
        "    uasents = [uasent.strip(',.\\n') for uasent in uasents]\n",
        "    for uasent in uasents:\n",
        "      uawords = uasent.split(\" \")\n",
        "      uawords = [uaword for uaword in uawords if uaword and uaword != \"-\"]\n",
        "      uamorphans = []\n",
        "      udictlist = []\n",
        "      for uaword in uawords:\n",
        "        ukrana = uamorph.parse(uaword)\n",
        "        ukrana1 = ukrana[0]\n",
        "        udict_meta = {}\n",
        "        udict_meta[\"word\"] = ukrana1.word\n",
        "        udict_meta[\"pos\"] = ukrana1.tag.POS\n",
        "        udict_meta[\"pers\"] = ukrana1.tag.person\n",
        "        udictlist.append(udict_meta)\n",
        "      for udict in udictlist:\n",
        "        print(udict)"
      ],
      "metadata": {
        "colab": {
          "base_uri": "https://localhost:8080/"
        },
        "id": "qiJ6UXSc-LR2",
        "outputId": "36ed7bf0-96bf-4fbf-d49c-8e99aaf5aad3"
      },
      "execution_count": null,
      "outputs": [
        {
          "output_type": "stream",
          "name": "stdout",
          "text": [
            "{'word': 'вона', 'pos': 'NPRO', 'pers': None}\n",
            "{'word': 'багато', 'pos': 'ADVB', 'pers': None}\n",
            "{'word': 'разiв', 'pos': 'VERB', 'pers': None}\n",
            "{'word': 'читала', 'pos': 'VERB', 'pers': None}\n",
            "{'word': 'цю', 'pos': 'NPRO', 'pers': None}\n",
            "{'word': 'книгу,', 'pos': None, 'pers': None}\n",
            "{'word': 'але', 'pos': 'CONJ', 'pers': None}\n",
            "{'word': 'нiколи', 'pos': 'NOUN', 'pers': None}\n",
            "{'word': 'до', 'pos': 'NOUN', 'pers': None}\n",
            "{'word': 'кiнця', 'pos': 'NOUN', 'pers': None}\n",
            "{'word': 'при', 'pos': 'VERB', 'pers': '2per'}\n",
            "{'word': 'виборі', 'pos': 'NOUN', 'pers': None}\n",
            "{'word': 'мов', 'pos': 'PRCL', 'pers': None}\n",
            "{'word': 'багато', 'pos': 'ADVB', 'pers': None}\n",
            "{'word': 'студентів', 'pos': 'NOUN', 'pers': None}\n",
            "{'word': 'записувалися', 'pos': 'VERB', 'pers': None}\n",
            "{'word': 'на', 'pos': 'INTJ', 'pers': None}\n",
            "{'word': 'французьку,', 'pos': None, 'pers': None}\n",
            "{'word': 'німецьку,', 'pos': None, 'pers': None}\n",
            "{'word': 'але', 'pos': 'CONJ', 'pers': None}\n",
            "{'word': 'ніхто', 'pos': 'NPRO', 'pers': None}\n",
            "{'word': 'не', 'pos': 'PRCL', 'pers': None}\n",
            "{'word': 'на', 'pos': 'INTJ', 'pers': None}\n",
            "{'word': 'хінді', 'pos': 'NOUN', 'pers': None}\n",
            "{'word': 'я', 'pos': 'NPRO', 'pers': None}\n",
            "{'word': 'вважаю', 'pos': 'VERB', 'pers': '1per'}\n",
            "{'word': 'його', 'pos': 'NOUN', 'pers': None}\n",
            "{'word': 'не', 'pos': 'PRCL', 'pers': None}\n",
            "{'word': 'дурнем', 'pos': 'NOUN', 'pers': None}\n",
            "{'word': 'когось', 'pos': 'NPRO', 'pers': None}\n",
            "{'word': 'iз', 'pos': None, 'pers': None}\n",
            "{'word': 'цих', 'pos': 'NPRO', 'pers': None}\n",
            "{'word': 'людей', 'pos': 'NOUN', 'pers': None}\n",
            "{'word': 'я', 'pos': 'NPRO', 'pers': None}\n",
            "{'word': 'не', 'pos': 'PRCL', 'pers': None}\n",
            "{'word': 'знав', 'pos': 'VERB', 'pers': None}\n",
            "{'word': 'комусь', 'pos': 'NPRO', 'pers': None}\n",
            "{'word': 'iз', 'pos': None, 'pers': None}\n",
            "{'word': 'них', 'pos': 'NPRO', 'pers': None}\n",
            "{'word': '15', 'pos': None, 'pers': None}\n",
            "{'word': 'рокiв,', 'pos': None, 'pers': None}\n",
            "{'word': 'комусь', 'pos': 'NPRO', 'pers': None}\n",
            "{'word': '30,', 'pos': None, 'pers': None}\n",
            "{'word': 'але', 'pos': 'CONJ', 'pers': None}\n",
            "{'word': 'нiкому', 'pos': 'NOUN', 'pers': None}\n",
            "{'word': '20', 'pos': None, 'pers': None}\n",
            "{'word': 'кого-небудь', 'pos': 'NPRO', 'pers': None}\n",
            "{'word': 'iз', 'pos': None, 'pers': None}\n",
            "{'word': 'цих', 'pos': 'NPRO', 'pers': None}\n",
            "{'word': 'людей', 'pos': 'NOUN', 'pers': None}\n",
            "{'word': 'я', 'pos': 'NPRO', 'pers': None}\n",
            "{'word': 'не', 'pos': 'PRCL', 'pers': None}\n",
            "{'word': 'знав', 'pos': 'VERB', 'pers': None}\n",
            "{'word': 'я', 'pos': 'NPRO', 'pers': None}\n",
            "{'word': 'не', 'pos': 'PRCL', 'pers': None}\n",
            "{'word': 'вважаю', 'pos': 'VERB', 'pers': '1per'}\n",
            "{'word': 'його', 'pos': 'NOUN', 'pers': None}\n",
            "{'word': 'не', 'pos': 'PRCL', 'pers': None}\n",
            "{'word': 'розумним', 'pos': 'ADJF', 'pers': None}\n",
            "{'word': 'комусь', 'pos': 'NPRO', 'pers': None}\n",
            "{'word': 'iз', 'pos': None, 'pers': None}\n",
            "{'word': 'них', 'pos': 'NPRO', 'pers': None}\n",
            "{'word': '15', 'pos': None, 'pers': None}\n",
            "{'word': 'рокiв,', 'pos': None, 'pers': None}\n",
            "{'word': 'комусь', 'pos': 'NPRO', 'pers': None}\n",
            "{'word': '30,', 'pos': None, 'pers': None}\n",
            "{'word': 'але', 'pos': 'CONJ', 'pers': None}\n",
            "{'word': 'нiкому', 'pos': 'NOUN', 'pers': None}\n",
            "{'word': 'не', 'pos': 'PRCL', 'pers': None}\n",
            "{'word': '20\"', 'pos': None, 'pers': None}\n",
            "{'word': 'при', 'pos': 'VERB', 'pers': '2per'}\n",
            "{'word': 'виборі', 'pos': 'NOUN', 'pers': None}\n",
            "{'word': 'мов', 'pos': 'PRCL', 'pers': None}\n",
            "{'word': 'багато', 'pos': 'ADVB', 'pers': None}\n",
            "{'word': 'студентів', 'pos': 'NOUN', 'pers': None}\n",
            "{'word': 'записувалися', 'pos': 'VERB', 'pers': None}\n",
            "{'word': 'на', 'pos': 'INTJ', 'pers': None}\n",
            "{'word': 'французьку,', 'pos': None, 'pers': None}\n",
            "{'word': 'німецьку,', 'pos': None, 'pers': None}\n",
            "{'word': 'але', 'pos': 'CONJ', 'pers': None}\n",
            "{'word': 'ніхто', 'pos': 'NPRO', 'pers': None}\n",
            "{'word': 'на', 'pos': 'INTJ', 'pers': None}\n",
            "{'word': 'хінді', 'pos': 'NOUN', 'pers': None}\n",
            "{'word': 'вона', 'pos': 'NPRO', 'pers': None}\n",
            "{'word': 'багато', 'pos': 'ADVB', 'pers': None}\n",
            "{'word': 'разiв', 'pos': 'VERB', 'pers': None}\n",
            "{'word': 'читала', 'pos': 'VERB', 'pers': None}\n",
            "{'word': 'цю', 'pos': 'NPRO', 'pers': None}\n",
            "{'word': 'книгу,', 'pos': None, 'pers': None}\n",
            "{'word': 'але', 'pos': 'CONJ', 'pers': None}\n",
            "{'word': 'нiколи', 'pos': 'NOUN', 'pers': None}\n",
            "{'word': 'не', 'pos': 'PRCL', 'pers': None}\n",
            "{'word': 'до', 'pos': 'NOUN', 'pers': None}\n",
            "{'word': 'кiнця', 'pos': 'NOUN', 'pers': None}\n"
          ]
        }
      ]
    },
    {
      "cell_type": "markdown",
      "source": [
        "As we see now, Ukrainian morphological analyzer works much worse (e.g., persons are not defined for pronouns; \"нiколи\" is not a noun, but an adverb \"never\"). For Belarusian, there is no pymorphy package at all. Thus, due to the fact that the languages belong to the same subgroup (East Slavonic), it could be reasonable to agree that the sentences with the same indices as for Russian will be included into the preliminary targets list."
      ],
      "metadata": {
        "id": "Y75lCWvEH_hU"
      }
    },
    {
      "cell_type": "code",
      "source": [
        "with open('nc_ua.tsv', newline= \"\") as ff2:\n",
        "    new_ucsv = []\n",
        "    reader2 = csv.reader(ff2, delimiter = \"\\t\")\n",
        "    for row in reader2:\n",
        "      ucol = list(row[i] for i in indices)\n",
        "      new_ucsv.append(ucol)\n",
        "with open('nc_by.tsv', newline= \"\") as ff3:\n",
        "    new_bycsv = []\n",
        "    reader3 = csv.reader(ff3, delimiter = \"\\t\")\n",
        "    for row in reader3:\n",
        "      bycol = list(row[i] for i in indices)\n",
        "      new_bycsv.append(bycol)"
      ],
      "metadata": {
        "id": "YEiNKzTLJBZZ"
      },
      "execution_count": null,
      "outputs": []
    },
    {
      "cell_type": "code",
      "source": [
        "with open ('nc_ua2.tsv', 'w') as fw2:\n",
        "  writer = csv.writer(fw2, delimiter = \"\\t\")\n",
        "  for new_uline in new_ucsv:\n",
        "    writer.writerow(new_uline)\n",
        "with open ('nc_by2.tsv', 'w') as fw3:\n",
        "  writer = csv.writer(fw3, delimiter = \"\\t\")\n",
        "  for new_byline in new_bycsv:\n",
        "    writer.writerow(new_byline)"
      ],
      "metadata": {
        "id": "6U712dxwqATu"
      },
      "execution_count": null,
      "outputs": []
    },
    {
      "cell_type": "code",
      "source": [
        "with open('nc_ua2.tsv', 'r', encoding='utf-8') as c1:\n",
        "    ualines2 = c1.readlines()\n",
        "    metadata2 = ualines2[0]\n",
        "    heads2_ua = metadata2.split(\"\\t\")\n",
        "    uasents2 = heads2_ua[1:]\n",
        "    uatargets = []\n",
        "    uasents2 = [uasent2.strip(',.\\n') for uasent2 in uasents2]\n",
        "    ulp = spacy.load(\"uk_core_news_sm\")\n",
        "    for uasent2 in uasents2:\n",
        "      uatree = ulp(uasent2)\n",
        "      uasyntans = []\n",
        "      for uatoken in uatree:\n",
        "        uchildren = [uchild for uchild in uatoken.children]\n",
        "        if len(uchildren) > 3:\n",
        "          uasyntans.append(uatoken)\n",
        "      if uasyntans:\n",
        "        uatargets.append(uasent2)\n",
        "    nindices = []\n",
        "    for uatarget in uatargets:\n",
        "      if uatarget in uasents2:\n",
        "        nindices.append(uasents2.index(uatarget))\n",
        "        \n",
        "with open('nc_ua2.tsv', newline= \"\") as cc1:\n",
        "    final_csv = []\n",
        "    reader = csv.reader(cc1, delimiter = \"\\t\")\n",
        "    nindices = [ni+1 for ni in nindices]\n",
        "    nindices.append(0)\n",
        "    nindices = [nindices[len(nindices)-1]] + nindices[0:len(nindices)-1]\n",
        "    for row in reader:\n",
        "      ncol = list(row[ni] for ni in nindices)\n",
        "      final_csv.append(ncol)"
      ],
      "metadata": {
        "id": "7ihHLXHIrz-l"
      },
      "execution_count": null,
      "outputs": []
    },
    {
      "cell_type": "code",
      "source": [
        "with open ('finc_ua.tsv', 'w') as cw1:\n",
        "  writer = csv.writer(cw1, delimiter = \"\\t\")\n",
        "  for fin_line in final_csv:\n",
        "    writer.writerow(fin_line)"
      ],
      "metadata": {
        "id": "F9VbxtDJ_bCb"
      },
      "execution_count": null,
      "outputs": []
    },
    {
      "cell_type": "markdown",
      "source": [
        "Thus, Ukrainian data have undergone the second (syntactic) stage of sort. For the ellipsis to occur, it is essential that the sentence possess several arguments/adjuncts or be polypredicative. Thus, it has to have 4 or more dependencies of one token."
      ],
      "metadata": {
        "id": "3rRwWUmA_zMO"
      }
    },
    {
      "cell_type": "code",
      "source": [
        "with open('nc_ru2.tsv', 'r', encoding='utf-8') as c2:\n",
        "    rulines2 = c2.readlines()\n",
        "    rumetadata2 = rulines2[0]\n",
        "    heads2_ru = rumetadata2.split(\"\\t\")\n",
        "    rusents2 = heads2_ru[1:]\n",
        "    rutargets = []\n",
        "    rusents2 = [rusent2.strip(',.\\n') for rusent2 in rusents2]\n",
        "    rlp = spacy.load(\"ru_core_news_sm\")\n",
        "    for rusent2 in rusents2:\n",
        "      rutree = rlp(rusent2)\n",
        "      rusyntans = []\n",
        "      for rutoken in rutree:\n",
        "        print(rutoken.text, rutoken.dep_, rutoken.head.text,\n",
        "            [ruchild for ruchild in rutoken.children])"
      ],
      "metadata": {
        "colab": {
          "base_uri": "https://localhost:8080/"
        },
        "id": "EPt8UeRFBNS-",
        "outputId": "abf147c0-4613-4e7f-b9a9-8795773c1504"
      },
      "execution_count": null,
      "outputs": [
        {
          "output_type": "stream",
          "name": "stdout",
          "text": [
            "Она nsubj читала []\n",
            "много advmod раз []\n",
            "раз obl читала [много]\n",
            "читала ROOT читала [Она, раз, книгу]\n",
            "эту det книгу []\n",
            "книгу obj читала [эту]\n",
            ", punct но []\n",
            "но ROOT но [,, никогда, конца]\n",
            "никогда case но []\n",
            "- case конца []\n",
            "до case конца []\n",
            "конца case но [-, до]\n",
            "При case выборе []\n",
            "выборе obl записалось [При, языков]\n",
            "языков nmod выборе []\n",
            "много nsubj записалось [студентов]\n",
            "студентов obl много []\n",
            "записалось ROOT записалось [выборе, много, на, хинди]\n",
            "на case записалось [французский]\n",
            "французский case на [немецкий]\n",
            ", punct немецкий []\n",
            "немецкий conj французский [,]\n",
            ", punct хинди []\n",
            "но cc хинди []\n",
            "никто nsubj хинди []\n",
            "не advmod хинди []\n",
            "на case хинди []\n",
            "хинди conj записалось [,, но, никто, не, на]\n",
            "Кого obj знал []\n",
            "- obj знал []\n",
            "то obj знал [людей]\n",
            "из case людей []\n",
            "этих det людей []\n",
            "людей nmod то [из, этих]\n",
            "я nsubj знал []\n",
            "не advmod знал []\n",
            "знал ROOT знал [Кого, -, то, я, не]\n",
            "Кому iobj лет []\n",
            "- iobj лет []\n",
            "то iobj лет []\n",
            "из case них []\n",
            "них nmod лет [из]\n",
            "15 nummod лет []\n",
            "лет ROOT лет [Кому, -, то, них, 15, -, то, 30, никому, -, 20]\n",
            ", punct кому []\n",
            "кому iobj - [,]\n",
            "- iobj лет [кому]\n",
            "то conj лет []\n",
            "30 nummod лет []\n",
            ", punct никому []\n",
            "но cc никому []\n",
            "никому conj лет [,, но]\n",
            "- conj лет []\n",
            "20 conj лет []\n",
            "Кого obj знал []\n",
            "- obj знал []\n",
            "нибудь obj знал [людей]\n",
            "из case людей []\n",
            "этих det людей []\n",
            "людей nmod нибудь [из, этих]\n",
            "я nsubj знал []\n",
            "не advmod знал []\n",
            "знал ROOT знал [Кого, -, нибудь, я, не]\n",
            "Кому iobj лет []\n",
            "- iobj лет []\n",
            "то iobj лет []\n",
            "из case них []\n",
            "них nmod лет [из]\n",
            "15 nummod лет []\n",
            "лет ROOT лет [Кому, -, то, них, 15, -, то, 30, 20]\n",
            ", punct кому []\n",
            "кому iobj - [,]\n",
            "- iobj лет [кому]\n",
            "то conj лет []\n",
            "30 nummod лет []\n",
            ", punct 20 []\n",
            "но cc 20 []\n",
            "никому iobj 20 []\n",
            "не advmod 20 []\n",
            "20 conj лет [,, но, никому, не]\n",
            "При case выборе []\n",
            "выборе obl записывались [При, языков]\n",
            "языков nmod выборе []\n",
            "многие amod студенты []\n",
            "студенты nsubj записывались [многие]\n",
            "записывались ROOT записывались [выборе, студенты, французский, хинди]\n",
            "на case французский []\n",
            "французский obl записывались [на, немецкий]\n",
            ", punct немецкий []\n",
            "немецкий conj французский [,]\n",
            ", punct хинди []\n",
            "но cc хинди [никто]\n",
            "никто case но [-]\n",
            "- case никто []\n",
            "на case хинди []\n",
            "хинди conj записывались [,, но, на]\n",
            "Она nsubj читала []\n",
            "много advmod раз []\n",
            "раз obl читала [много]\n",
            "читала ROOT читала [Она, раз, книгу, конца]\n",
            "эту det книгу []\n",
            "книгу obj читала [эту]\n",
            ", punct конца []\n",
            "но cc конца []\n",
            "никогда advmod конца []\n",
            "не advmod конца []\n",
            "до case конца []\n",
            "конца conj читала [,, но, никогда, не, до]\n"
          ]
        }
      ]
    },
    {
      "cell_type": "markdown",
      "source": [
        "As we see now, Russian syntactic analyzer works much worse (e.g., \"кто-то\" (somebody) is parsed as 3 tokens). For Belarusian, there is no spacy package at all. Thus, due to the fact that the languages belong to the same subgroup (East Slavonic), it could be reasonable to agree that the sentences with the same indices as for Ukrainian will be included into the final targets list."
      ],
      "metadata": {
        "id": "ePun6KIMJ2_W"
      }
    },
    {
      "cell_type": "code",
      "source": [
        "with open('nc_ru2.tsv', newline= \"\") as cc2:\n",
        "    final_rucsv = []\n",
        "    reader2 = csv.reader(cc2, delimiter = \"\\t\")\n",
        "    for row in reader2:\n",
        "      runcol = list(row[ni] for ni in nindices)\n",
        "      final_rucsv.append(runcol)\n",
        "with open('nc_by2.tsv', newline= \"\") as cc3:\n",
        "    final_bycsv = []\n",
        "    reader3 = csv.reader(cc3, delimiter = \"\\t\")\n",
        "    for row in reader3:\n",
        "      byncol = list(row[ni] for ni in nindices)\n",
        "      final_bycsv.append(byncol)"
      ],
      "metadata": {
        "id": "InqhJ8dJKV92"
      },
      "execution_count": null,
      "outputs": []
    },
    {
      "cell_type": "code",
      "source": [
        "with open ('finc_ru.tsv', 'w') as cw2:\n",
        "  writer = csv.writer(cw2, delimiter = \"\\t\")\n",
        "  for fin_ruline in final_rucsv:\n",
        "    writer.writerow(fin_ruline)\n",
        "with open ('finc_by.tsv', 'w') as cw3:\n",
        "  writer = csv.writer(cw3, delimiter = \"\\t\")\n",
        "  for fin_byline in final_bycsv:\n",
        "    writer.writerow(fin_byline)"
      ],
      "metadata": {
        "id": "adUsFiyqLHVO"
      },
      "execution_count": null,
      "outputs": []
    },
    {
      "cell_type": "code",
      "source": [
        "import sqlite3\n",
        "import pandas as pd\n",
        "conn = sqlite3.connect('nc_eslav.db')\n",
        "c = conn.cursor()\n",
        "with open('finc_ru.tsv', 'r', encoding='utf-8') as r1:\n",
        "    r1 = r1.readlines()\n",
        "    rudata = r1[1:]\n",
        "c.execute(\"DROP TABLE IF EXISTS russian\")\n",
        "c.execute(\"CREATE TABLE IF NOT EXISTS russian(time text, s1 float, s2 float, s3 float, s4 float, s5 float, s6 float, language text)\")\n",
        "for row in rudata:\n",
        "  row = row.split('\\t')\n",
        "  c.execute(\"INSERT INTO russian VALUES (?, ?, ?, ?, ?, ?, ?, ?)\", (row[0], row[1], row[2], row[3], row[4], row[5], row[6], \"Russian\"))\n",
        "with open('finc_ua.tsv', 'r', encoding='utf-8') as r2:\n",
        "    r2 = r2.readlines()\n",
        "    uadata = r2[1:]\n",
        "c.execute(\"DROP TABLE IF EXISTS ukrainian\")\n",
        "c.execute(\"CREATE TABLE IF NOT EXISTS ukrainian(time text, s1 float, s2 float, s3 float, s4 float, s5 float, s6 float, language text)\")\n",
        "for row in uadata:\n",
        "  row = row.split('\\t')\n",
        "  c.execute(\"INSERT INTO ukrainian VALUES (?, ?, ?, ?, ?, ?, ?, ?)\", (row[0], row[1], row[2], row[3], row[4], row[5], row[6], \"Ukrainian\"))\n",
        "with open('finc_by.tsv', 'r', encoding='utf-8') as r3:\n",
        "    r3 = r3.readlines()\n",
        "    bydata = r3[1:]\n",
        "c.execute(\"DROP TABLE IF EXISTS belarusian\")\n",
        "c.execute(\"CREATE TABLE IF NOT EXISTS belarusian(time text, s1 float, s2 float, s3 float, s4 float, s5 float, s6 float, language text)\")\n",
        "for row in bydata:\n",
        "  row = row.split('\\t')\n",
        "  c.execute(\"INSERT INTO belarusian VALUES (?, ?, ?, ?, ?, ?, ?, ?)\", (row[0], row[1], row[2], row[3], row[4], row[5], row[6], \"Belarusian\"))\n",
        "dfru = pd.read_sql_query(\"SELECT * from russian\", conn)\n",
        "dfua = pd.read_sql_query(\"SELECT * from ukrainian\", conn)\n",
        "dfby = pd.read_sql_query(\"SELECT * from belarusian\", conn)\n",
        "conn.commit()\n",
        "conn.close()"
      ],
      "metadata": {
        "id": "ZGvxmu08feYt"
      },
      "execution_count": null,
      "outputs": []
    },
    {
      "cell_type": "markdown",
      "source": [
        "The database contains 3 tables, each table is dedicated to a particular East Slavonic language and contains 7 columns (first column contains a date and time of an answer, which serves as an ID, while others contain grades given to a particular sentence) and 10 to 50 rows (which contain grades given by a particular informant)."
      ],
      "metadata": {
        "id": "E02ibBn9s8TI"
      }
    },
    {
      "cell_type": "code",
      "source": [
        "dfeslav = pd.concat([dfru, dfua, dfby], ignore_index=True)\n",
        "print(dfeslav)"
      ],
      "metadata": {
        "colab": {
          "base_uri": "https://localhost:8080/"
        },
        "id": "hnfxKEilC8x7",
        "outputId": "3183aac0-1ad7-45a4-8804-c741a3898d34"
      },
      "execution_count": null,
      "outputs": [
        {
          "output_type": "stream",
          "name": "stdout",
          "text": [
            "                   time    s1   s2   s3   s4    s5   s6    language\n",
            "0   30.05.2019 13:28:50   3.0  2.0  4.0  2.0   5.0  2.0     Russian\n",
            "1   30.05.2019 13:32:22   4.0  1.0  2.0  4.0   5.0  3.0     Russian\n",
            "2   30.05.2019 13:47:54   4.0  1.0  5.0  3.0   5.0  1.0     Russian\n",
            "3   30.05.2019 13:49:48   2.0  4.0  3.0  4.0   5.0  4.0     Russian\n",
            "4   30.05.2019 13:50:54   4.0  1.0  5.0  1.0   5.0  1.0     Russian\n",
            "..                  ...   ...  ...  ...  ...   ...  ...         ...\n",
            "65  06.06.2019 15:29:41   7.5  0.0  2.5  2.5  10.0  0.0  Belarusian\n",
            "66  06.06.2019 15:53:27  10.0  2.5  7.5  5.0  10.0  0.0  Belarusian\n",
            "67  07.06.2019 10:31:00   7.5  2.5  7.5  7.5  10.0  2.5  Belarusian\n",
            "68  07.06.2019 11:06:30   7.5  5.0  7.5  7.5  10.0  5.0  Belarusian\n",
            "69  07.06.2019 11:26:46   7.5  7.5  7.5  5.0   7.5  2.5  Belarusian\n",
            "\n",
            "[70 rows x 8 columns]\n"
          ]
        }
      ]
    },
    {
      "cell_type": "markdown",
      "source": [
        "The dataframe has been created, now it's time to manipulate it."
      ],
      "metadata": {
        "id": "ug9FyBpb7TVC"
      }
    },
    {
      "cell_type": "code",
      "source": [
        "sentences = [\"s1\", \"s2\", \"s3\", \"s4\", \"s5\", \"s6\"]\n",
        "import numpy as np\n",
        "for sentence in sentences:\n",
        "  dfeslav[sentence].mask(dfeslav['language'] == \"Russian\", 50 * dfeslav[sentence] - 150, inplace = True)\n",
        "  dfeslav[sentence].mask(dfeslav['language'] == \"Ukrainian\", 200/12 * dfeslav[sentence] - 100, inplace = True)\n",
        "  dfeslav[sentence].mask(dfeslav['language'] == \"Belarusian\", 20 * dfeslav[sentence] - 100, inplace = True)"
      ],
      "metadata": {
        "id": "zgnnUqBv_YBA"
      },
      "execution_count": null,
      "outputs": []
    },
    {
      "cell_type": "markdown",
      "source": [
        "Manipulation 1: the values in the columns have been normalized to bilateral 100-point scale"
      ],
      "metadata": {
        "id": "RVliQR2wIIe4"
      }
    },
    {
      "cell_type": "code",
      "source": [
        "dfeslav[\"mean_single\"] = dfeslav[['s1', 's3', 's5']].mean(axis=1)\n",
        "dfeslav[\"mean_double\"] = dfeslav[['s2', 's4', 's6']].mean(axis=1)"
      ],
      "metadata": {
        "id": "jDRFMF9PIbBX"
      },
      "execution_count": null,
      "outputs": []
    },
    {
      "cell_type": "markdown",
      "source": [
        "Manipulation 2: columns have been added"
      ],
      "metadata": {
        "id": "KneLhoSgQVkw"
      }
    },
    {
      "cell_type": "code",
      "source": [
        "dfeslav_forsingle = dfeslav[dfeslav[\"mean_single\"] > dfeslav[\"mean_double\"]]\n",
        "dfeslav_fordouble = dfeslav[dfeslav[\"mean_single\"] < dfeslav[\"mean_double\"]]\n",
        "dfeslav_neutral = dfeslav[dfeslav[\"mean_single\"] == dfeslav[\"mean_double\"]]"
      ],
      "metadata": {
        "id": "9pzfQi7qQeFs"
      },
      "execution_count": null,
      "outputs": []
    },
    {
      "cell_type": "markdown",
      "source": [
        "Manipulation 3: subsets have been taken"
      ],
      "metadata": {
        "id": "HwBbK3TUdXiA"
      }
    },
    {
      "cell_type": "code",
      "source": [
        "dfeslav_national = dfeslav.groupby(\"language\").agg({\"s1\": \"mean\", \"s2\": \"mean\", \"s3\": \"mean\",\n",
        "                                                    \"s4\": \"mean\", \"s5\": \"mean\", \"s6\": \"mean\"})\n",
        "dfeslav_national"
      ],
      "metadata": {
        "colab": {
          "base_uri": "https://localhost:8080/",
          "height": 175
        },
        "id": "Xvy2EgIfddvv",
        "outputId": "167c03d7-7655-4908-b22d-7fc49efaab97"
      },
      "execution_count": null,
      "outputs": [
        {
          "output_type": "execute_result",
          "data": {
            "text/plain": [
              "              s1    s2    s3    s4    s5    s6\n",
              "language                                      \n",
              "Belarusian  50.0 -40.0  15.0 -10.0  60.0 -60.0\n",
              "Russian      2.0 -57.0  14.0 -12.0  42.0 -46.0\n",
              "Ukrainian   25.0 -70.0 -10.0 -30.0  30.0 -45.0"
            ],
            "text/html": [
              "\n",
              "  <div id=\"df-912963b9-bdf0-410d-8a5f-8cf651e13cfe\">\n",
              "    <div class=\"colab-df-container\">\n",
              "      <div>\n",
              "<style scoped>\n",
              "    .dataframe tbody tr th:only-of-type {\n",
              "        vertical-align: middle;\n",
              "    }\n",
              "\n",
              "    .dataframe tbody tr th {\n",
              "        vertical-align: top;\n",
              "    }\n",
              "\n",
              "    .dataframe thead th {\n",
              "        text-align: right;\n",
              "    }\n",
              "</style>\n",
              "<table border=\"1\" class=\"dataframe\">\n",
              "  <thead>\n",
              "    <tr style=\"text-align: right;\">\n",
              "      <th></th>\n",
              "      <th>s1</th>\n",
              "      <th>s2</th>\n",
              "      <th>s3</th>\n",
              "      <th>s4</th>\n",
              "      <th>s5</th>\n",
              "      <th>s6</th>\n",
              "    </tr>\n",
              "    <tr>\n",
              "      <th>language</th>\n",
              "      <th></th>\n",
              "      <th></th>\n",
              "      <th></th>\n",
              "      <th></th>\n",
              "      <th></th>\n",
              "      <th></th>\n",
              "    </tr>\n",
              "  </thead>\n",
              "  <tbody>\n",
              "    <tr>\n",
              "      <th>Belarusian</th>\n",
              "      <td>50.0</td>\n",
              "      <td>-40.0</td>\n",
              "      <td>15.0</td>\n",
              "      <td>-10.0</td>\n",
              "      <td>60.0</td>\n",
              "      <td>-60.0</td>\n",
              "    </tr>\n",
              "    <tr>\n",
              "      <th>Russian</th>\n",
              "      <td>2.0</td>\n",
              "      <td>-57.0</td>\n",
              "      <td>14.0</td>\n",
              "      <td>-12.0</td>\n",
              "      <td>42.0</td>\n",
              "      <td>-46.0</td>\n",
              "    </tr>\n",
              "    <tr>\n",
              "      <th>Ukrainian</th>\n",
              "      <td>25.0</td>\n",
              "      <td>-70.0</td>\n",
              "      <td>-10.0</td>\n",
              "      <td>-30.0</td>\n",
              "      <td>30.0</td>\n",
              "      <td>-45.0</td>\n",
              "    </tr>\n",
              "  </tbody>\n",
              "</table>\n",
              "</div>\n",
              "      <button class=\"colab-df-convert\" onclick=\"convertToInteractive('df-912963b9-bdf0-410d-8a5f-8cf651e13cfe')\"\n",
              "              title=\"Convert this dataframe to an interactive table.\"\n",
              "              style=\"display:none;\">\n",
              "        \n",
              "  <svg xmlns=\"http://www.w3.org/2000/svg\" height=\"24px\"viewBox=\"0 0 24 24\"\n",
              "       width=\"24px\">\n",
              "    <path d=\"M0 0h24v24H0V0z\" fill=\"none\"/>\n",
              "    <path d=\"M18.56 5.44l.94 2.06.94-2.06 2.06-.94-2.06-.94-.94-2.06-.94 2.06-2.06.94zm-11 1L8.5 8.5l.94-2.06 2.06-.94-2.06-.94L8.5 2.5l-.94 2.06-2.06.94zm10 10l.94 2.06.94-2.06 2.06-.94-2.06-.94-.94-2.06-.94 2.06-2.06.94z\"/><path d=\"M17.41 7.96l-1.37-1.37c-.4-.4-.92-.59-1.43-.59-.52 0-1.04.2-1.43.59L10.3 9.45l-7.72 7.72c-.78.78-.78 2.05 0 2.83L4 21.41c.39.39.9.59 1.41.59.51 0 1.02-.2 1.41-.59l7.78-7.78 2.81-2.81c.8-.78.8-2.07 0-2.86zM5.41 20L4 18.59l7.72-7.72 1.47 1.35L5.41 20z\"/>\n",
              "  </svg>\n",
              "      </button>\n",
              "      \n",
              "  <style>\n",
              "    .colab-df-container {\n",
              "      display:flex;\n",
              "      flex-wrap:wrap;\n",
              "      gap: 12px;\n",
              "    }\n",
              "\n",
              "    .colab-df-convert {\n",
              "      background-color: #E8F0FE;\n",
              "      border: none;\n",
              "      border-radius: 50%;\n",
              "      cursor: pointer;\n",
              "      display: none;\n",
              "      fill: #1967D2;\n",
              "      height: 32px;\n",
              "      padding: 0 0 0 0;\n",
              "      width: 32px;\n",
              "    }\n",
              "\n",
              "    .colab-df-convert:hover {\n",
              "      background-color: #E2EBFA;\n",
              "      box-shadow: 0px 1px 2px rgba(60, 64, 67, 0.3), 0px 1px 3px 1px rgba(60, 64, 67, 0.15);\n",
              "      fill: #174EA6;\n",
              "    }\n",
              "\n",
              "    [theme=dark] .colab-df-convert {\n",
              "      background-color: #3B4455;\n",
              "      fill: #D2E3FC;\n",
              "    }\n",
              "\n",
              "    [theme=dark] .colab-df-convert:hover {\n",
              "      background-color: #434B5C;\n",
              "      box-shadow: 0px 1px 3px 1px rgba(0, 0, 0, 0.15);\n",
              "      filter: drop-shadow(0px 1px 2px rgba(0, 0, 0, 0.3));\n",
              "      fill: #FFFFFF;\n",
              "    }\n",
              "  </style>\n",
              "\n",
              "      <script>\n",
              "        const buttonEl =\n",
              "          document.querySelector('#df-912963b9-bdf0-410d-8a5f-8cf651e13cfe button.colab-df-convert');\n",
              "        buttonEl.style.display =\n",
              "          google.colab.kernel.accessAllowed ? 'block' : 'none';\n",
              "\n",
              "        async function convertToInteractive(key) {\n",
              "          const element = document.querySelector('#df-912963b9-bdf0-410d-8a5f-8cf651e13cfe');\n",
              "          const dataTable =\n",
              "            await google.colab.kernel.invokeFunction('convertToInteractive',\n",
              "                                                     [key], {});\n",
              "          if (!dataTable) return;\n",
              "\n",
              "          const docLinkHtml = 'Like what you see? Visit the ' +\n",
              "            '<a target=\"_blank\" href=https://colab.research.google.com/notebooks/data_table.ipynb>data table notebook</a>'\n",
              "            + ' to learn more about interactive tables.';\n",
              "          element.innerHTML = '';\n",
              "          dataTable['output_type'] = 'display_data';\n",
              "          await google.colab.output.renderOutput(dataTable, element);\n",
              "          const docLink = document.createElement('div');\n",
              "          docLink.innerHTML = docLinkHtml;\n",
              "          element.appendChild(docLink);\n",
              "        }\n",
              "      </script>\n",
              "    </div>\n",
              "  </div>\n",
              "  "
            ]
          },
          "metadata": {},
          "execution_count": 19
        }
      ]
    },
    {
      "cell_type": "markdown",
      "source": [
        "Manipulation 4: grouping has been carried out"
      ],
      "metadata": {
        "id": "J7IqaHw4ebd5"
      }
    },
    {
      "cell_type": "code",
      "source": [
        "import matplotlib.pyplot as plt\n",
        "%matplotlib inline\n",
        "import seaborn as sns\n",
        "dfeslav.groupby(\"language\").agg({\"mean_single\": \"mean\"}).plot.bar(color=\"green\")\n",
        "dfeslav.groupby(\"language\").agg({\"mean_double\": \"mean\"}).plot.bar(color=\"red\")\n",
        "plt.title(\"Single vs double negation correctness\")\n",
        "plt.xlabel(\"language\")\n",
        "plt.ylabel(\"correctness\")"
      ],
      "metadata": {
        "colab": {
          "base_uri": "https://localhost:8080/",
          "height": 660
        },
        "id": "5W2B-_5xfAN3",
        "outputId": "4d573938-4c06-43fa-8ce1-88823f6c512d"
      },
      "execution_count": null,
      "outputs": [
        {
          "output_type": "execute_result",
          "data": {
            "text/plain": [
              "Text(0, 0.5, 'correctness')"
            ]
          },
          "metadata": {},
          "execution_count": 20
        },
        {
          "output_type": "display_data",
          "data": {
            "text/plain": [
              "<Figure size 432x288 with 1 Axes>"
            ],
            "image/png": "[encoded data removed]"
          },
          "metadata": {
            "needs_background": "light"
          }
        },
        {
          "output_type": "display_data",
          "data": {
            "text/plain": [
              "<Figure size 432x288 with 1 Axes>"
            ],
            "image/png": "[encoded data removed]"
          },
          "metadata": {
            "needs_background": "light"
          }
        }
      ]
    },
    {
      "cell_type": "markdown",
      "source": [
        "Graph 1 shows dependence of correctness indices from a language. It has shown that Belarusian speakers demonstrate the strongest support towards single negation, while Russian and Ukrainian are almost equal. Ukrainian speakers demonstrate the most negative reaction towards double negation, while Russian and Belarusian are almost equal."
      ],
      "metadata": {
        "id": "-KHHF_g9tBgG"
      }
    },
    {
      "cell_type": "code",
      "source": [
        "sns.boxplot(x=\"language\", y=dfeslav[\"s1\"]-dfeslav[\"s6\"], data=dfeslav)\n",
        "plt.title('Single vs double polarization for adjuncts')\n",
        "plt.ylabel('Polarization')"
      ],
      "metadata": {
        "id": "vQYzNt6KzJRI",
        "outputId": "d3ba438e-1efa-4adc-a42d-6dfa7093b19b",
        "colab": {
          "base_uri": "https://localhost:8080/",
          "height": 312
        }
      },
      "execution_count": null,
      "outputs": [
        {
          "output_type": "execute_result",
          "data": {
            "text/plain": [
              "Text(0, 0.5, 'Polarization')"
            ]
          },
          "metadata": {},
          "execution_count": 23
        },
        {
          "output_type": "display_data",
          "data": {
            "text/plain": [
              "<Figure size 432x288 with 1 Axes>"
            ],
            "image/png": "[encoded data removed]"
          },
          "metadata": {
            "needs_background": "light"
          }
        }
      ]
    },
    {
      "cell_type": "code",
      "source": [
        "sns.boxplot(x=\"language\", y=dfeslav[\"s5\"]-dfeslav[\"s2\"], data=dfeslav)\n",
        "plt.title('Single vs double polarization for subjects')\n",
        "plt.ylabel('Polarization')"
      ],
      "metadata": {
        "colab": {
          "base_uri": "https://localhost:8080/",
          "height": 312
        },
        "id": "mXIHUY5y0szh",
        "outputId": "e9911bc1-62b8-4436-c6e4-55abc32d19f1"
      },
      "execution_count": null,
      "outputs": [
        {
          "output_type": "execute_result",
          "data": {
            "text/plain": [
              "Text(0, 0.5, 'Polarization')"
            ]
          },
          "metadata": {},
          "execution_count": 25
        },
        {
          "output_type": "display_data",
          "data": {
            "text/plain": [
              "<Figure size 432x288 with 1 Axes>"
            ],
            "image/png": "[encoded data removed]"
          },
          "metadata": {
            "needs_background": "light"
          }
        }
      ]
    },
    {
      "cell_type": "code",
      "source": [
        "sns.boxplot(x=\"language\", y=dfeslav[\"s3\"]-dfeslav[\"s4\"], data=dfeslav)\n",
        "plt.title('Single vs double polarization for objects')\n",
        "plt.ylabel('Polarization')\n"
      ],
      "metadata": {
        "colab": {
          "base_uri": "https://localhost:8080/",
          "height": 312
        },
        "id": "e6LEFBpy050_",
        "outputId": "f7a9222e-8bb9-4d3b-8b1b-9114ea0f1793"
      },
      "execution_count": null,
      "outputs": [
        {
          "output_type": "execute_result",
          "data": {
            "text/plain": [
              "Text(0, 0.5, 'Polarization')"
            ]
          },
          "metadata": {},
          "execution_count": 26
        },
        {
          "output_type": "display_data",
          "data": {
            "text/plain": [
              "<Figure size 432x288 with 1 Axes>"
            ],
            "image/png": "[encoded data removed]"
          },
          "metadata": {
            "needs_background": "light"
          }
        }
      ]
    },
    {
      "cell_type": "markdown",
      "source": [
        "Graph 2 shows polarization between single and double negation in different languages and for different roles.\n",
        "For adjuncts (never) Belarusian shows the largest polarization, while Russian shows the smallest. For subjects, Belarusian also shows the largest polarization. For objects, it is almost equal, but Russian has the smallest 3rd quartile."
      ],
      "metadata": {
        "id": "cnf2gYY_1Cgq"
      }
    },
    {
      "cell_type": "code",
      "source": [
        "conditions = [dfeslav[\"mean_single\"] > dfeslav[\"mean_double\"], dfeslav[\"mean_single\"] < dfeslav[\"mean_double\"], dfeslav[\"mean_single\"] == dfeslav[\"mean_double\"]]\n",
        "choices = [\"single\", \"double\", \"balance\"]\n",
        "dfeslav['favorite'] = np.select(conditions, choices)\n",
        "dfeslav['favorite'].value_counts().plot(kind='pie')\n",
        "plt.title(\"Choices\")"
      ],
      "metadata": {
        "colab": {
          "base_uri": "https://localhost:8080/",
          "height": 281
        },
        "id": "RkLaPjxP2RSn",
        "outputId": "5c267be2-81e9-4ce1-aa2e-b99d513529b0"
      },
      "execution_count": null,
      "outputs": [
        {
          "output_type": "execute_result",
          "data": {
            "text/plain": [
              "Text(0.5, 1.0, 'Choices')"
            ]
          },
          "metadata": {},
          "execution_count": 30
        },
        {
          "output_type": "display_data",
          "data": {
            "text/plain": [
              "<Figure size 432x288 with 1 Axes>"
            ],
            "image/png": "[encoded data removed]"
          },
          "metadata": {}
        }
      ]
    },
    {
      "cell_type": "markdown",
      "source": [
        "Graph 3 shows how many informants prefer single/double negation or use both of them equally (across languages). Vast majority of informants use single negation. Those who don't might prefer double negation or be neutral with approximately equal probability."
      ],
      "metadata": {
        "id": "jt25f2xb5dvG"
      }
    },
    {
      "cell_type": "code",
      "source": [
        "dfeslav[\"polarization\"] = dfeslav[\"mean_single\"] - dfeslav[\"mean_double\"]\n",
        "dfeslav[\"polarization\"].plot(kind=\"hist\")"
      ],
      "metadata": {
        "colab": {
          "base_uri": "https://localhost:8080/",
          "height": 282
        },
        "id": "H_i6JskM6Y8S",
        "outputId": "b68272ea-1af3-417e-fac6-85f0eb3f4ba5"
      },
      "execution_count": null,
      "outputs": [
        {
          "output_type": "execute_result",
          "data": {
            "text/plain": [
              "<matplotlib.axes._subplots.AxesSubplot at 0x7fd3c3ac0310>"
            ]
          },
          "metadata": {},
          "execution_count": 34
        },
        {
          "output_type": "display_data",
          "data": {
            "text/plain": [
              "<Figure size 432x288 with 1 Axes>"
            ],
            "image/png": "[encoded data removed]"
          },
          "metadata": {
            "needs_background": "light"
          }
        }
      ]
    },
    {
      "cell_type": "markdown",
      "source": [
        "Graph 4 shows distribution of polarization. As we see, the main peak is between 0 and 50 (closer to 0), while the second one is between 50 and 100. Distribution is not normal, but it is quite close."
      ],
      "metadata": {
        "id": "gwM9E7wa_FqF"
      }
    }
  ]
}
